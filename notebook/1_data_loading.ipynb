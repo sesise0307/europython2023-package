{
 "cells": [
  {
   "cell_type": "markdown",
   "id": "336625f6",
   "metadata": {},
   "source": [
    "# [Adult Data Set](https://archive.ics.uci.edu/ml/datasets/Adult)\n",
    "\n",
    "Predict whether income exceeds $50K/yr based on census data.\n",
    "Also known as \"Census Income\" dataset.\n",
    "\n",
    "**Attributes**\n",
    "\n",
    "- age\n",
    "- workclass\n",
    "  - Represents the employment status of an individual\n",
    "- fnlwgt\n",
    "  - Final weight which is the number of people the census believes the entry represents\n",
    "  - People with similar demographic characteristics should have similar weights\n",
    "    - This only applies within state.\n",
    "- education\n",
    "  - The highest level of education achieved by an individual\n",
    "- education-num\n",
    "  - The highest level of education achieved in numerical form\n",
    "- marital-status\n",
    "- relationship\n",
    "  - Represents what this individual is relative to others\n",
    "- race\n",
    "- sex\n",
    "- capital-gain\n",
    "- capital-loss\n",
    "- hours-per-week\n",
    "  - The hours an individual has reported to work per week\n",
    "- native-country\n",
    "\n",
    "The dataset is given as a `csv` file.\n",
    "\n",
    "![Adult Data CSV Capture](../image/data_csv_capture.png)"
   ]
  },
  {
   "cell_type": "markdown",
   "id": "d4684f15",
   "metadata": {},
   "source": [
    "# Data Loading"
   ]
  },
  {
   "cell_type": "code",
   "execution_count": null,
   "id": "a420d7be",
   "metadata": {},
   "outputs": [],
   "source": [
    "import pandas as pd"
   ]
  },
  {
   "cell_type": "code",
   "execution_count": null,
   "id": "a1de7a7e",
   "metadata": {},
   "outputs": [],
   "source": [
    "adult_df = pd.read_csv(\n",
    "    \"../data/adult_data.csv\"\n",
    ")"
   ]
  },
  {
   "cell_type": "code",
   "execution_count": null,
   "id": "236f9714",
   "metadata": {},
   "outputs": [],
   "source": [
    "adult_df.head()"
   ]
  },
  {
   "cell_type": "markdown",
   "id": "e490ede5",
   "metadata": {},
   "source": [
    "<div class=\"alert alert-block alert-danger\">\n",
    "Something went wrong; column names are not correct.\n",
    "</div>\n",
    "\n",
    "Ah, there are no column names in the raw data. Let's give them explicitly."
   ]
  },
  {
   "cell_type": "code",
   "execution_count": null,
   "id": "03d8d0ef",
   "metadata": {},
   "outputs": [],
   "source": [
    "column_names = [\n",
    "    'age',\n",
    "    'workclass',\n",
    "    'fnlwgt',\n",
    "    'education',\n",
    "    'education_num',\n",
    "    'marital_status',\n",
    "    'occupation',\n",
    "    'relationship',\n",
    "    'race',\n",
    "    'sex',\n",
    "    'capital_gain',\n",
    "    'capital_loss',\n",
    "    'hours_per_week',\n",
    "    'native_country',\n",
    "    'income',\n",
    "]\n",
    "\n",
    "adult_df = pd.read_csv(\n",
    "    \"../data/adult_data.csv\",\n",
    "    names=column_names\n",
    ")"
   ]
  },
  {
   "cell_type": "code",
   "execution_count": null,
   "id": "5a1291fa",
   "metadata": {},
   "outputs": [],
   "source": [
    "adult_df.head()"
   ]
  },
  {
   "cell_type": "markdown",
   "id": "9de29604",
   "metadata": {},
   "source": [
    "# Essentail Check"
   ]
  },
  {
   "cell_type": "markdown",
   "id": "b395a799",
   "metadata": {},
   "source": [
    "## `info()` and `describe()`"
   ]
  },
  {
   "cell_type": "code",
   "execution_count": null,
   "id": "d6b768b8",
   "metadata": {},
   "outputs": [],
   "source": [
    "adult_df.info()"
   ]
  },
  {
   "cell_type": "code",
   "execution_count": null,
   "id": "31e3ea50",
   "metadata": {},
   "outputs": [],
   "source": [
    "adult_df.describe()"
   ]
  },
  {
   "cell_type": "code",
   "execution_count": null,
   "id": "d1fd23b9",
   "metadata": {},
   "outputs": [],
   "source": [
    "adult_df.describe(exclude='number')"
   ]
  },
  {
   "cell_type": "code",
   "execution_count": null,
   "id": "51ec5d21",
   "metadata": {},
   "outputs": [],
   "source": [
    "adult_df['workclass'].unique()"
   ]
  },
  {
   "cell_type": "markdown",
   "id": "a33741ba",
   "metadata": {},
   "source": [
    "<div class=\"alert alert-block alert-danger\">\n",
    "We encountered another problem; there is an unnecessary space in string columns.\n",
    "</div>\n",
    "\n",
    "We can fix it using `skipinitialspace` parameter of the `pd.read_csv()` function."
   ]
  },
  {
   "cell_type": "code",
   "execution_count": null,
   "id": "9fad12da",
   "metadata": {},
   "outputs": [],
   "source": [
    "adult_df = pd.read_csv(\n",
    "    \"../data/adult_data.csv\",\n",
    "    names=column_names,\n",
    "    skipinitialspace=True\n",
    ")\n",
    "\n",
    "adult_df['workclass'].unique()"
   ]
  },
  {
   "cell_type": "markdown",
   "id": "2b0a009e",
   "metadata": {},
   "source": [
    "# Notebook Refactoring Recommendations\n",
    "\n",
    "- Put `import` statements at first\n",
    "- Put every cell in order, so that your notebook can be excuted from the top to the bottom without errors\n",
    "- Follow [PEP 8 - Style Guide for Python Code](https://peps.python.org/pep-0008/)\n",
    "- Try to split one big notebook into several ones by some logic\n",
    "- **Extract repeated code to functions**"
   ]
  },
  {
   "cell_type": "markdown",
   "id": "9ace945b",
   "metadata": {},
   "source": [
    "# Refactoring example: extract repeated code to functions\n",
    "\n",
    "\n",
    "\n",
    "Original code:\n",
    "\n",
    "```python\n",
    "column_names = [\n",
    "    'age',\n",
    "    'workclass',\n",
    "    'fnlwgt',\n",
    "    ...\n",
    "]\n",
    "\n",
    "adult_df = pd.read_csv(\n",
    "    \"../data/adult_data.csv\",\n",
    "    names=column_names,\n",
    "    skipinitialspace=True\n",
    ")\n",
    "```\n",
    "\n",
    "Improvements:\n",
    "\n",
    "- Extract a target file to read as a `data_file` argument to provide flixibility\n",
    "- Provide a default file path\n",
    "- Change `column_names` to a Tuple and make the variable name to a constant using all capital letters"
   ]
  },
  {
   "cell_type": "code",
   "execution_count": null,
   "id": "d1d7a6d1",
   "metadata": {},
   "outputs": [],
   "source": [
    "def load_adult_data(data_file='../data/adult_data.csv'):\n",
    "    COLUMN_NAMES = (\n",
    "        'age',\n",
    "        'workclass',\n",
    "        'fnlwgt',\n",
    "        'education',\n",
    "        'education_num',\n",
    "        'marital_status',\n",
    "        'occupation',\n",
    "        'relationship',\n",
    "        'race',\n",
    "        'sex',\n",
    "        'capital_gain',\n",
    "        'capital_loss',\n",
    "        'hours_per_week',\n",
    "        'native_country',\n",
    "        'income',\n",
    "    )\n",
    "    \n",
    "    return pd.read_csv(\n",
    "        data_file,\n",
    "        names=COLUMN_NAMES,\n",
    "        skipinitialspace=True\n",
    "    )"
   ]
  },
  {
   "cell_type": "code",
   "execution_count": null,
   "id": "db046790",
   "metadata": {},
   "outputs": [],
   "source": [
    "new_adult_df = load_adult_data()\n",
    "new_adult_df.head()"
   ]
  },
  {
   "cell_type": "code",
   "execution_count": null,
   "id": "518146ba",
   "metadata": {},
   "outputs": [],
   "source": []
  }
 ],
 "metadata": {
  "kernelspec": {
   "display_name": "Python 3 (ipykernel)",
   "language": "python",
   "name": "python3"
  },
  "language_info": {
   "codemirror_mode": {
    "name": "ipython",
    "version": 3
   },
   "file_extension": ".py",
   "mimetype": "text/x-python",
   "name": "python",
   "nbconvert_exporter": "python",
   "pygments_lexer": "ipython3",
   "version": "3.11.4"
  }
 },
 "nbformat": 4,
 "nbformat_minor": 5
}
