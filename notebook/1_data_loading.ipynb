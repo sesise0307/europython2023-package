{
 "cells": [
  {
   "cell_type": "markdown",
   "id": "336625f6",
   "metadata": {},
   "source": [
    "# [Adult Data Set](https://archive.ics.uci.edu/ml/datasets/Adult)\n",
    "\n",
    "Predict whether income exceeds $50K/yr based on census data.\n",
    "Also known as \"Census Income\" dataset.\n",
    "\n",
    "**Attributes**\n",
    "\n",
    "- age\n",
    "- workclass\n",
    "  - Represents the employment status of an individual\n",
    "- fnlwgt\n",
    "  - Final weight which is the number of people the census believes the entry represents\n",
    "  - People with similar demographic characteristics should have similar weights\n",
    "    - This only applies within state.\n",
    "- education\n",
    "  - The highest level of education achieved by an individual\n",
    "- education-num\n",
    "  - The highest level of education achieved in numerical form\n",
    "- marital-status\n",
    "- relationship\n",
    "  - Represents what this individual is relative to others\n",
    "- race\n",
    "- sex\n",
    "- capital-gain\n",
    "- capital-loss\n",
    "- hours-per-week\n",
    "  - The hours an individual has reported to work per week\n",
    "- native-country\n",
    "\n",
    "The dataset is given as a `csv` file.\n",
    "\n",
    "![Adult Data CSV Capture](../image/data_csv_capture.png)"
   ]
  },
  {
   "cell_type": "markdown",
   "id": "d4684f15",
   "metadata": {},
   "source": [
    "# Data Loading"
   ]
  },
  {
   "cell_type": "code",
   "execution_count": null,
   "id": "a420d7be",
   "metadata": {},
   "outputs": [],
   "source": [
    "import pandas as pd"
   ]
  },
  {
   "cell_type": "code",
   "execution_count": null,
   "id": "a1de7a7e",
   "metadata": {},
   "outputs": [],
   "source": [
    "adult_df = pd.read_csv(\n",
    "    \"../data/adult_data.csv\"\n",
    ")"
   ]
  },
  {
   "cell_type": "code",
   "execution_count": null,
   "id": "236f9714",
   "metadata": {},
   "outputs": [],
   "source": [
    "adult_df.head()"
   ]
  },
  {
   "cell_type": "markdown",
   "id": "e490ede5",
   "metadata": {},
   "source": [
    "<div class=\"alert alert-block alert-danger\">\n",
    "Something went wrong; column names are not correct.\n",
    "</div>\n",
    "\n",
    "Ah, there are no column names in the raw data. Let's give them explicitly."
   ]
  },
  {
   "cell_type": "code",
   "execution_count": 14,
   "id": "03d8d0ef",
   "metadata": {},
   "outputs": [],
   "source": [
    "column_names = [\n",
    "    'age',\n",
    "    'workclass',\n",
    "    'fnlwgt',\n",
    "    'education',\n",
    "    'education_num',\n",
    "    'marital_status',\n",
    "    'occupation',\n",
    "    'relationship',\n",
    "    'race',\n",
    "    'sex',\n",
    "    'capital_gain',\n",
    "    'capital_loss',\n",
    "    'hours_per_week',\n",
    "    'native_country',\n",
    "    'income',\n",
    "]\n",
    "\n",
    "adult_df = pd.read_csv(\n",
    "    \"../data/adult_data.csv\",\n",
    "    names=column_names\n",
    ")"
   ]
  },
  {
   "cell_type": "code",
   "execution_count": 15,
   "id": "5a1291fa",
   "metadata": {},
   "outputs": [
    {
     "data": {
      "text/html": [
       "<div>\n",
       "<style scoped>\n",
       "    .dataframe tbody tr th:only-of-type {\n",
       "        vertical-align: middle;\n",
       "    }\n",
       "\n",
       "    .dataframe tbody tr th {\n",
       "        vertical-align: top;\n",
       "    }\n",
       "\n",
       "    .dataframe thead th {\n",
       "        text-align: right;\n",
       "    }\n",
       "</style>\n",
       "<table border=\"1\" class=\"dataframe\">\n",
       "  <thead>\n",
       "    <tr style=\"text-align: right;\">\n",
       "      <th></th>\n",
       "      <th>age</th>\n",
       "      <th>workclass</th>\n",
       "      <th>fnlwgt</th>\n",
       "      <th>education</th>\n",
       "      <th>education_num</th>\n",
       "      <th>marital_status</th>\n",
       "      <th>occupation</th>\n",
       "      <th>relationship</th>\n",
       "      <th>race</th>\n",
       "      <th>sex</th>\n",
       "      <th>capital_gain</th>\n",
       "      <th>capital_loss</th>\n",
       "      <th>hours_per_week</th>\n",
       "      <th>native_country</th>\n",
       "      <th>income</th>\n",
       "    </tr>\n",
       "  </thead>\n",
       "  <tbody>\n",
       "    <tr>\n",
       "      <th>0</th>\n",
       "      <td>39</td>\n",
       "      <td>State-gov</td>\n",
       "      <td>77516</td>\n",
       "      <td>Bachelors</td>\n",
       "      <td>13</td>\n",
       "      <td>Never-married</td>\n",
       "      <td>Adm-clerical</td>\n",
       "      <td>Not-in-family</td>\n",
       "      <td>White</td>\n",
       "      <td>Male</td>\n",
       "      <td>2174</td>\n",
       "      <td>0</td>\n",
       "      <td>40</td>\n",
       "      <td>United-States</td>\n",
       "      <td>&lt;=50K</td>\n",
       "    </tr>\n",
       "    <tr>\n",
       "      <th>1</th>\n",
       "      <td>50</td>\n",
       "      <td>Self-emp-not-inc</td>\n",
       "      <td>83311</td>\n",
       "      <td>Bachelors</td>\n",
       "      <td>13</td>\n",
       "      <td>Married-civ-spouse</td>\n",
       "      <td>Exec-managerial</td>\n",
       "      <td>Husband</td>\n",
       "      <td>White</td>\n",
       "      <td>Male</td>\n",
       "      <td>0</td>\n",
       "      <td>0</td>\n",
       "      <td>13</td>\n",
       "      <td>United-States</td>\n",
       "      <td>&lt;=50K</td>\n",
       "    </tr>\n",
       "    <tr>\n",
       "      <th>2</th>\n",
       "      <td>38</td>\n",
       "      <td>Private</td>\n",
       "      <td>215646</td>\n",
       "      <td>HS-grad</td>\n",
       "      <td>9</td>\n",
       "      <td>Divorced</td>\n",
       "      <td>Handlers-cleaners</td>\n",
       "      <td>Not-in-family</td>\n",
       "      <td>White</td>\n",
       "      <td>Male</td>\n",
       "      <td>0</td>\n",
       "      <td>0</td>\n",
       "      <td>40</td>\n",
       "      <td>United-States</td>\n",
       "      <td>&lt;=50K</td>\n",
       "    </tr>\n",
       "    <tr>\n",
       "      <th>3</th>\n",
       "      <td>53</td>\n",
       "      <td>Private</td>\n",
       "      <td>234721</td>\n",
       "      <td>11th</td>\n",
       "      <td>7</td>\n",
       "      <td>Married-civ-spouse</td>\n",
       "      <td>Handlers-cleaners</td>\n",
       "      <td>Husband</td>\n",
       "      <td>Black</td>\n",
       "      <td>Male</td>\n",
       "      <td>0</td>\n",
       "      <td>0</td>\n",
       "      <td>40</td>\n",
       "      <td>United-States</td>\n",
       "      <td>&lt;=50K</td>\n",
       "    </tr>\n",
       "    <tr>\n",
       "      <th>4</th>\n",
       "      <td>28</td>\n",
       "      <td>Private</td>\n",
       "      <td>338409</td>\n",
       "      <td>Bachelors</td>\n",
       "      <td>13</td>\n",
       "      <td>Married-civ-spouse</td>\n",
       "      <td>Prof-specialty</td>\n",
       "      <td>Wife</td>\n",
       "      <td>Black</td>\n",
       "      <td>Female</td>\n",
       "      <td>0</td>\n",
       "      <td>0</td>\n",
       "      <td>40</td>\n",
       "      <td>Cuba</td>\n",
       "      <td>&lt;=50K</td>\n",
       "    </tr>\n",
       "  </tbody>\n",
       "</table>\n",
       "</div>"
      ],
      "text/plain": [
       "   age          workclass  fnlwgt   education  education_num  \\\n",
       "0   39          State-gov   77516   Bachelors             13   \n",
       "1   50   Self-emp-not-inc   83311   Bachelors             13   \n",
       "2   38            Private  215646     HS-grad              9   \n",
       "3   53            Private  234721        11th              7   \n",
       "4   28            Private  338409   Bachelors             13   \n",
       "\n",
       "        marital_status          occupation    relationship    race      sex  \\\n",
       "0        Never-married        Adm-clerical   Not-in-family   White     Male   \n",
       "1   Married-civ-spouse     Exec-managerial         Husband   White     Male   \n",
       "2             Divorced   Handlers-cleaners   Not-in-family   White     Male   \n",
       "3   Married-civ-spouse   Handlers-cleaners         Husband   Black     Male   \n",
       "4   Married-civ-spouse      Prof-specialty            Wife   Black   Female   \n",
       "\n",
       "   capital_gain  capital_loss  hours_per_week  native_country  income  \n",
       "0          2174             0              40   United-States   <=50K  \n",
       "1             0             0              13   United-States   <=50K  \n",
       "2             0             0              40   United-States   <=50K  \n",
       "3             0             0              40   United-States   <=50K  \n",
       "4             0             0              40            Cuba   <=50K  "
      ]
     },
     "execution_count": 15,
     "metadata": {},
     "output_type": "execute_result"
    }
   ],
   "source": [
    "adult_df.head()"
   ]
  },
  {
   "cell_type": "markdown",
   "id": "9de29604",
   "metadata": {},
   "source": [
    "# Essential Check"
   ]
  },
  {
   "cell_type": "code",
   "execution_count": 16,
   "id": "d6b768b8",
   "metadata": {},
   "outputs": [
    {
     "name": "stdout",
     "output_type": "stream",
     "text": [
      "<class 'pandas.core.frame.DataFrame'>\n",
      "RangeIndex: 32561 entries, 0 to 32560\n",
      "Data columns (total 15 columns):\n",
      " #   Column          Non-Null Count  Dtype \n",
      "---  ------          --------------  ----- \n",
      " 0   age             32561 non-null  int64 \n",
      " 1   workclass       32561 non-null  object\n",
      " 2   fnlwgt          32561 non-null  int64 \n",
      " 3   education       32561 non-null  object\n",
      " 4   education_num   32561 non-null  int64 \n",
      " 5   marital_status  32561 non-null  object\n",
      " 6   occupation      32561 non-null  object\n",
      " 7   relationship    32561 non-null  object\n",
      " 8   race            32561 non-null  object\n",
      " 9   sex             32561 non-null  object\n",
      " 10  capital_gain    32561 non-null  int64 \n",
      " 11  capital_loss    32561 non-null  int64 \n",
      " 12  hours_per_week  32561 non-null  int64 \n",
      " 13  native_country  32561 non-null  object\n",
      " 14  income          32561 non-null  object\n",
      "dtypes: int64(6), object(9)\n",
      "memory usage: 3.7+ MB\n"
     ]
    }
   ],
   "source": [
    "adult_df.info()"
   ]
  },
  {
   "cell_type": "code",
   "execution_count": null,
   "id": "31e3ea50",
   "metadata": {},
   "outputs": [],
   "source": [
    "adult_df.describe()"
   ]
  },
  {
   "cell_type": "code",
   "execution_count": null,
   "id": "d1fd23b9",
   "metadata": {},
   "outputs": [],
   "source": [
    "adult_df.describe(exclude='number')"
   ]
  },
  {
   "cell_type": "code",
   "execution_count": null,
   "id": "51ec5d21",
   "metadata": {},
   "outputs": [],
   "source": [
    "adult_df['workclass'].unique()"
   ]
  },
  {
   "cell_type": "markdown",
   "id": "a33741ba",
   "metadata": {},
   "source": [
    "<div class=\"alert alert-block alert-danger\">\n",
    "We encountered another problem; there is an unnecessary space in string columns.\n",
    "</div>\n",
    "\n",
    "We can fix it using `skipinitialspace` parameter of the `pd.read_csv()` function."
   ]
  },
  {
   "cell_type": "code",
   "execution_count": null,
   "id": "9fad12da",
   "metadata": {},
   "outputs": [],
   "source": [
    "adult_df = pd.read_csv(\n",
    "    \"../data/adult_data.csv\",\n",
    "    names=column_names,\n",
    "    skipinitialspace=True\n",
    ")\n",
    "\n",
    "adult_df['workclass'].unique()"
   ]
  },
  {
   "cell_type": "markdown",
   "id": "2b0a009e",
   "metadata": {},
   "source": [
    "# Notebook Refactoring Recommendations\n",
    "\n",
    "- Put `import` statements at first\n",
    "- Put every cell in order, so that your notebook can be excuted from the top to the bottom without errors\n",
    "- Follow [PEP 8 - Style Guide for Python Code](https://peps.python.org/pep-0008/)\n",
    "- Try to split one big notebook into several ones by some logic\n",
    "- **Extract repeated code to functions**"
   ]
  },
  {
   "cell_type": "markdown",
   "id": "9ace945b",
   "metadata": {},
   "source": [
    "# Refactoring example: extract repeated code to functions\n",
    "\n",
    "\n",
    "\n",
    "Original code:\n",
    "\n",
    "```python\n",
    "column_names = [\n",
    "    'age',\n",
    "    'workclass',\n",
    "    'fnlwgt',\n",
    "    ...\n",
    "]\n",
    "\n",
    "adult_df = pd.read_csv(\n",
    "    \"../data/adult_data.csv\",\n",
    "    names=column_names,\n",
    "    skipinitialspace=True\n",
    ")\n",
    "```\n",
    "\n",
    "Improvements:\n",
    "\n",
    "- Extract a target file to read as a `data_file` argument to provide flixibility\n",
    "- Provide a default file path\n",
    "- Change `column_names` to a Tuple and make the variable name to a constant using all capital letters"
   ]
  },
  {
   "cell_type": "code",
   "execution_count": null,
   "id": "d1d7a6d1",
   "metadata": {},
   "outputs": [],
   "source": [
    "def load_adult_data(data_file='../data/adult_data.csv'):\n",
    "    COLUMN_NAMES = (\n",
    "        'age',\n",
    "        'workclass',\n",
    "        'fnlwgt',\n",
    "        'education',\n",
    "        'education_num',\n",
    "        'marital_status',\n",
    "        'occupation',\n",
    "        'relationship',\n",
    "        'race',\n",
    "        'sex',\n",
    "        'capital_gain',\n",
    "        'capital_loss',\n",
    "        'hours_per_week',\n",
    "        'native_country',\n",
    "        'income',\n",
    "    )\n",
    "    \n",
    "    return pd.read_csv(\n",
    "        data_file,\n",
    "        names=COLUMN_NAMES,\n",
    "        skipinitialspace=True\n",
    "    )"
   ]
  },
  {
   "cell_type": "code",
   "execution_count": null,
   "id": "db046790",
   "metadata": {},
   "outputs": [],
   "source": [
    "new_adult_df = load_adult_data()\n",
    "new_adult_df.head()"
   ]
  },
  {
   "cell_type": "code",
   "execution_count": null,
   "id": "518146ba",
   "metadata": {},
   "outputs": [],
   "source": []
  }
 ],
 "metadata": {
  "kernelspec": {
   "display_name": "Python 3 (ipykernel)",
   "language": "python",
   "name": "python3"
  },
  "language_info": {
   "codemirror_mode": {
    "name": "ipython",
    "version": 3
   },
   "file_extension": ".py",
   "mimetype": "text/x-python",
   "name": "python",
   "nbconvert_exporter": "python",
   "pygments_lexer": "ipython3",
   "version": "3.11.4"
  }
 },
 "nbformat": 4,
 "nbformat_minor": 5
}
