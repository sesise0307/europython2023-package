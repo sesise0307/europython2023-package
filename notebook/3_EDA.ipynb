{
 "cells": [
  {
   "cell_type": "markdown",
   "id": "fc7a17f7",
   "metadata": {},
   "source": [
    "# EDA (Exploratory Data Analysis)\n",
    "\n",
    "![EDA](../image/eda.png)\n",
    "\n",
    "\n",
    "<font color=\"Blue\">Refer to [this GitHub repo](https://github.com/sesise0307/pydata2021-eda) for a detailed tutorial.</font>"
   ]
  },
  {
   "cell_type": "code",
   "execution_count": null,
   "id": "3a0f3a65",
   "metadata": {},
   "outputs": [],
   "source": [
    "import matplotlib.pyplot as plt\n",
    "import pandas as pd\n",
    "import seaborn as sns"
   ]
  },
  {
   "cell_type": "markdown",
   "id": "1fc95692",
   "metadata": {},
   "source": [
    "# Data Loading"
   ]
  },
  {
   "cell_type": "markdown",
   "id": "4609eefe",
   "metadata": {},
   "source": [
    "<div class=\"alert alert-block alert-warning\">\n",
    "We have to copy & paste the `load_adult_data` function from the 1st notebook.\n",
    "</div>"
   ]
  },
  {
   "cell_type": "code",
   "execution_count": null,
   "id": "bab7729c",
   "metadata": {},
   "outputs": [],
   "source": [
    "def load_adult_data(data_file='../data/adult_data.csv'):\n",
    "    COLUMN_NAMES = (\n",
    "        'age',\n",
    "        'workclass',\n",
    "        'fnlwgt',\n",
    "        'education',\n",
    "        'education_num',\n",
    "        'marital_status',\n",
    "        'occupation',\n",
    "        'relationship',\n",
    "        'race',\n",
    "        'sex',\n",
    "        'capital_gain',\n",
    "        'capital_loss',\n",
    "        'hours_per_week',\n",
    "        'native_country',\n",
    "        'income',\n",
    "    )\n",
    "    \n",
    "    return pd.read_csv(\n",
    "        data_file,\n",
    "        names=COLUMN_NAMES,\n",
    "        skipinitialspace=True\n",
    "    )"
   ]
  },
  {
   "cell_type": "code",
   "execution_count": null,
   "id": "13ad8467",
   "metadata": {},
   "outputs": [],
   "source": [
    "adult_df = load_adult_data()"
   ]
  },
  {
   "cell_type": "markdown",
   "id": "19455289",
   "metadata": {},
   "source": [
    "# Preprocessing"
   ]
  },
  {
   "cell_type": "markdown",
   "id": "fbdbdeb6",
   "metadata": {},
   "source": [
    "<div class=\"alert alert-block alert-warning\">\n",
    "We have to copy & paste the functions from the 2nd notebook.\n",
    "</div>"
   ]
  },
  {
   "cell_type": "code",
   "execution_count": null,
   "id": "40cf358f",
   "metadata": {},
   "outputs": [],
   "source": [
    "def add_age_group(adult_df):\n",
    "    age_group = pd.cut(\n",
    "        adult_df['age'],\n",
    "        bins=range(10, 101, 10),\n",
    "        right=False,\n",
    "        labels=[f'{age_start}~{age_start + 9}'\n",
    "                for age_start in range(10, 100, 10)]\n",
    "    )\n",
    "    \n",
    "    return adult_df.assign(age_group=age_group)\n",
    "\n",
    "def change_education_type_to_category(adult_df):\n",
    "    education_order = (\n",
    "        adult_df\n",
    "        .groupby('education')['education_num']\n",
    "        .unique()\n",
    "        .sort_values()\n",
    "        .index\n",
    "    )\n",
    "    \n",
    "    return adult_df.astype({\n",
    "        \"education\": pd.CategoricalDtype(categories=education_order,\n",
    "                                         ordered=True),\n",
    "        \"education_num\": pd.CategoricalDtype(ordered=True),\n",
    "    })"
   ]
  },
  {
   "cell_type": "code",
   "execution_count": null,
   "id": "7cd8999b",
   "metadata": {},
   "outputs": [],
   "source": [
    "adult_df = (\n",
    "    adult_df\n",
    "    .pipe(add_age_group)\n",
    "    .pipe(change_education_type_to_category)\n",
    ")"
   ]
  },
  {
   "cell_type": "markdown",
   "id": "d034ae7f",
   "metadata": {},
   "source": [
    "# Histogram / KDE / Boxplot"
   ]
  },
  {
   "cell_type": "code",
   "execution_count": null,
   "id": "703ebc64",
   "metadata": {},
   "outputs": [],
   "source": [
    "plt.rcParams['figure.figsize'] = 10, 5  # Set a default figure size\n",
    "sns.set_style('whitegrid')  # Set a default figure style"
   ]
  },
  {
   "cell_type": "code",
   "execution_count": null,
   "id": "31d7c099",
   "metadata": {},
   "outputs": [],
   "source": [
    "plt.subplot(131)\n",
    "sns.histplot(data=adult_df, x='age', hue='income', multiple=\"stack\")\n",
    "\n",
    "plt.subplot(132)\n",
    "sns.kdeplot(data=adult_df, x='age', hue='income', multiple=\"stack\")\n",
    "\n",
    "plt.subplot(133)\n",
    "sns.boxplot(data=adult_df, y='age', x='income');"
   ]
  },
  {
   "cell_type": "markdown",
   "id": "d1e8cc2a",
   "metadata": {},
   "source": [
    "<div class=\"alert alert-block alert-info\">\n",
    "What about other variables? Let's define a function.\n",
    "</div>"
   ]
  },
  {
   "cell_type": "code",
   "execution_count": null,
   "id": "6edb27cf",
   "metadata": {},
   "outputs": [],
   "source": [
    "def statistical_plots(data, var, separate_by=\"income\"):\n",
    "    plt.subplot(131)\n",
    "    sns.histplot(data=data, x=var, hue=separate_by, multiple=\"stack\")\n",
    "\n",
    "    plt.subplot(132)\n",
    "    sns.kdeplot(data=data, x=var, hue=separate_by, multiple=\"stack\")\n",
    "\n",
    "    plt.subplot(133)\n",
    "    sns.boxplot(data=data, y=var, x=separate_by)    "
   ]
  },
  {
   "cell_type": "code",
   "execution_count": null,
   "id": "d1ddbea3",
   "metadata": {},
   "outputs": [],
   "source": [
    "statistical_plots(adult_df, \"hours_per_week\")"
   ]
  },
  {
   "cell_type": "code",
   "execution_count": null,
   "id": "007c0a50",
   "metadata": {},
   "outputs": [],
   "source": []
  }
 ],
 "metadata": {
  "kernelspec": {
   "display_name": "Python 3 (ipykernel)",
   "language": "python",
   "name": "python3"
  },
  "language_info": {
   "codemirror_mode": {
    "name": "ipython",
    "version": 3
   },
   "file_extension": ".py",
   "mimetype": "text/x-python",
   "name": "python",
   "nbconvert_exporter": "python",
   "pygments_lexer": "ipython3",
   "version": "3.11.4"
  }
 },
 "nbformat": 4,
 "nbformat_minor": 5
}
