{
 "cells": [
  {
   "cell_type": "code",
   "execution_count": null,
   "id": "add08b3d",
   "metadata": {},
   "outputs": [],
   "source": [
    "import pandas as pd"
   ]
  },
  {
   "cell_type": "markdown",
   "id": "1fc95692",
   "metadata": {},
   "source": [
    "# Data Loading"
   ]
  },
  {
   "cell_type": "markdown",
   "id": "4609eefe",
   "metadata": {},
   "source": [
    "<div class=\"alert alert-block alert-warning\">\n",
    "We have to copy & paste the `load_adult_data` function from the 1st notebook.\n",
    "</div>"
   ]
  },
  {
   "cell_type": "code",
   "execution_count": null,
   "id": "bab7729c",
   "metadata": {},
   "outputs": [],
   "source": [
    "def load_adult_data(data_file='../data/adult_data.csv'):\n",
    "    COLUMN_NAMES = (\n",
    "        'age',\n",
    "        'workclass',\n",
    "        'fnlwgt',\n",
    "        'education',\n",
    "        'education_num',\n",
    "        'marital_status',\n",
    "        'occupation',\n",
    "        'relationship',\n",
    "        'race',\n",
    "        'sex',\n",
    "        'capital_gain',\n",
    "        'capital_loss',\n",
    "        'hours_per_week',\n",
    "        'native_country',\n",
    "        'income',\n",
    "    )\n",
    "    \n",
    "    return pd.read_csv(\n",
    "        data_file,\n",
    "        names=COLUMN_NAMES,\n",
    "        skipinitialspace=True\n",
    "    )"
   ]
  },
  {
   "cell_type": "code",
   "execution_count": null,
   "id": "13ad8467",
   "metadata": {},
   "outputs": [],
   "source": [
    "adult_df = load_adult_data()"
   ]
  },
  {
   "cell_type": "markdown",
   "id": "aa74f59e",
   "metadata": {},
   "source": [
    "# Preprocessing"
   ]
  },
  {
   "cell_type": "markdown",
   "id": "823d4356",
   "metadata": {},
   "source": [
    "<div class=\"alert alert-block alert-warning\">\n",
    "We have to copy & paste the functions from the 2nd notebook.\n",
    "</div>"
   ]
  },
  {
   "cell_type": "code",
   "execution_count": null,
   "id": "287e1f43",
   "metadata": {},
   "outputs": [],
   "source": [
    "def add_age_group(adult_df):\n",
    "    age_group = pd.cut(\n",
    "        adult_df['age'],\n",
    "        bins=range(10, 101, 10),\n",
    "        right=False,\n",
    "        labels=[f'{age_start}~{age_start + 9}'\n",
    "                for age_start in range(10, 100, 10)]\n",
    "    )\n",
    "    \n",
    "    return adult_df.assign(age_group=age_group)\n",
    "\n",
    "def change_education_type_to_category(adult_df):\n",
    "    education_order = (\n",
    "        adult_df\n",
    "        .groupby('education')['education_num']\n",
    "        .unique()\n",
    "        .sort_values()\n",
    "        .index\n",
    "    )\n",
    "    \n",
    "    return adult_df.astype({\n",
    "        \"education\": pd.CategoricalDtype(categories=education_order,\n",
    "                                         ordered=True),\n",
    "        \"education_num\": pd.CategoricalDtype(ordered=True),\n",
    "    })"
   ]
  },
  {
   "cell_type": "code",
   "execution_count": null,
   "id": "8ae5e559",
   "metadata": {},
   "outputs": [],
   "source": [
    "adult_df = (\n",
    "    adult_df\n",
    "    .pipe(add_age_group)\n",
    "    .pipe(change_education_type_to_category)\n",
    ")"
   ]
  },
  {
   "cell_type": "markdown",
   "id": "7fa8c865",
   "metadata": {},
   "source": [
    "# Feature Engineering"
   ]
  },
  {
   "cell_type": "code",
   "execution_count": null,
   "id": "38614fea",
   "metadata": {},
   "outputs": [],
   "source": [
    "x = pd.concat(\n",
    "    [\n",
    "        adult_df[[\"age\", \"hours_per_week\"]],\n",
    "        pd.get_dummies(adult_df[[\"education\", \"sex\", \"race\", \"marital_status\"]]),\n",
    "    ],\n",
    "    axis=\"columns\"\n",
    ")\n",
    "\n",
    "x.head()"
   ]
  },
  {
   "cell_type": "code",
   "execution_count": null,
   "id": "e7935f05",
   "metadata": {},
   "outputs": [],
   "source": [
    "y = adult_df[\"income\"]\n",
    "\n",
    "y.head()"
   ]
  },
  {
   "cell_type": "markdown",
   "id": "a8302b61",
   "metadata": {},
   "source": [
    "# Prediction"
   ]
  },
  {
   "cell_type": "code",
   "execution_count": null,
   "id": "9166bb05",
   "metadata": {},
   "outputs": [],
   "source": [
    "from sklearn.ensemble import RandomForestClassifier\n",
    "from sklearn.metrics import accuracy_score\n",
    "from sklearn.model_selection import train_test_split"
   ]
  },
  {
   "cell_type": "code",
   "execution_count": null,
   "id": "49c6d0c1",
   "metadata": {},
   "outputs": [],
   "source": [
    "x_train, x_test, y_train, y_test = train_test_split(x, y, test_size=0.33, random_state=42)"
   ]
  },
  {
   "cell_type": "code",
   "execution_count": null,
   "id": "c3239adc",
   "metadata": {},
   "outputs": [],
   "source": [
    "clf = RandomForestClassifier(max_depth=5, random_state=123)"
   ]
  },
  {
   "cell_type": "code",
   "execution_count": null,
   "id": "3affefa2",
   "metadata": {},
   "outputs": [],
   "source": [
    "clf.fit(x_train, y_train)"
   ]
  },
  {
   "cell_type": "code",
   "execution_count": null,
   "id": "81a19c5d",
   "metadata": {},
   "outputs": [],
   "source": [
    "y_pred = clf.predict(x_test)"
   ]
  },
  {
   "cell_type": "code",
   "execution_count": null,
   "id": "5d869ba3",
   "metadata": {},
   "outputs": [],
   "source": [
    "accuracy_score(y_test, y_pred)"
   ]
  },
  {
   "cell_type": "markdown",
   "id": "6e6762f0",
   "metadata": {},
   "source": [
    "---\n",
    "\n",
    "It looks ok, but not that satisfactory.\n",
    "\n",
    "Now we want to improve predictions with:\n",
    "\n",
    "- Other feature engineerings\n",
    "- Other models (SVM, XGBoost, CatBoost, deep learning, etc.)\n",
    "- Different cross-validation strategies\n",
    "- Hyper parameter tuning\n",
    "- Another dataset with the same format\n",
    "- ...\n",
    "\n",
    "There are tons of choices and combinations.\n",
    "\n",
    "Do we have to copy & paste the common functions everytime we create a new notebook?\n",
    "\n",
    "No, that does not sound very efficient.\n",
    "\n",
    "<div class=\"alert alert-block alert-info\">\n",
    "Fortunately, we can turn the common functions into a python package.\n",
    "</div>"
   ]
  },
  {
   "cell_type": "code",
   "execution_count": null,
   "id": "46acbfc6",
   "metadata": {},
   "outputs": [],
   "source": []
  }
 ],
 "metadata": {
  "kernelspec": {
   "display_name": "Python 3 (ipykernel)",
   "language": "python",
   "name": "python3"
  },
  "language_info": {
   "codemirror_mode": {
    "name": "ipython",
    "version": 3
   },
   "file_extension": ".py",
   "mimetype": "text/x-python",
   "name": "python",
   "nbconvert_exporter": "python",
   "pygments_lexer": "ipython3",
   "version": "3.11.4"
  }
 },
 "nbformat": 4,
 "nbformat_minor": 5
}
