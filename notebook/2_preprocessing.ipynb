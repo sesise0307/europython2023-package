{
 "cells": [
  {
   "cell_type": "code",
   "execution_count": 1,
   "id": "ef21a41c",
   "metadata": {},
   "outputs": [],
   "source": [
    "import pandas as pd"
   ]
  },
  {
   "cell_type": "markdown",
   "id": "64bdd2ee",
   "metadata": {},
   "source": [
    "# Data Loading"
   ]
  },
  {
   "cell_type": "markdown",
   "id": "085faa27",
   "metadata": {},
   "source": [
    "We have to copy & paste the `load_adult_data` function from the 1st notebook."
   ]
  },
  {
   "cell_type": "code",
   "execution_count": 2,
   "id": "f9be8bca",
   "metadata": {},
   "outputs": [],
   "source": [
    "def load_adult_data(data_file='../data/adult_data.csv'):\n",
    "    COLUMN_NAMES = (\n",
    "        'age',\n",
    "        'workclass',\n",
    "        'fnlwgt',\n",
    "        'education',\n",
    "        'education_num',\n",
    "        'marital_status',\n",
    "        'occupation',\n",
    "        'relationship',\n",
    "        'race',\n",
    "        'sex',\n",
    "        'capital_gain',\n",
    "        'capital_loss',\n",
    "        'hours_per_week',\n",
    "        'native_country',\n",
    "        'income',\n",
    "    )\n",
    "    \n",
    "    return pd.read_csv(\n",
    "        data_file,\n",
    "        names=COLUMN_NAMES,\n",
    "        skipinitialspace=True\n",
    "    )"
   ]
  },
  {
   "cell_type": "code",
   "execution_count": 3,
   "id": "eb65d643",
   "metadata": {},
   "outputs": [
    {
     "data": {
      "text/html": [
       "<div>\n",
       "<style scoped>\n",
       "    .dataframe tbody tr th:only-of-type {\n",
       "        vertical-align: middle;\n",
       "    }\n",
       "\n",
       "    .dataframe tbody tr th {\n",
       "        vertical-align: top;\n",
       "    }\n",
       "\n",
       "    .dataframe thead th {\n",
       "        text-align: right;\n",
       "    }\n",
       "</style>\n",
       "<table border=\"1\" class=\"dataframe\">\n",
       "  <thead>\n",
       "    <tr style=\"text-align: right;\">\n",
       "      <th></th>\n",
       "      <th>age</th>\n",
       "      <th>workclass</th>\n",
       "      <th>fnlwgt</th>\n",
       "      <th>education</th>\n",
       "      <th>education_num</th>\n",
       "      <th>marital_status</th>\n",
       "      <th>occupation</th>\n",
       "      <th>relationship</th>\n",
       "      <th>race</th>\n",
       "      <th>sex</th>\n",
       "      <th>capital_gain</th>\n",
       "      <th>capital_loss</th>\n",
       "      <th>hours_per_week</th>\n",
       "      <th>native_country</th>\n",
       "      <th>income</th>\n",
       "    </tr>\n",
       "  </thead>\n",
       "  <tbody>\n",
       "    <tr>\n",
       "      <th>0</th>\n",
       "      <td>39</td>\n",
       "      <td>State-gov</td>\n",
       "      <td>77516</td>\n",
       "      <td>Bachelors</td>\n",
       "      <td>13</td>\n",
       "      <td>Never-married</td>\n",
       "      <td>Adm-clerical</td>\n",
       "      <td>Not-in-family</td>\n",
       "      <td>White</td>\n",
       "      <td>Male</td>\n",
       "      <td>2174</td>\n",
       "      <td>0</td>\n",
       "      <td>40</td>\n",
       "      <td>United-States</td>\n",
       "      <td>&lt;=50K</td>\n",
       "    </tr>\n",
       "    <tr>\n",
       "      <th>1</th>\n",
       "      <td>50</td>\n",
       "      <td>Self-emp-not-inc</td>\n",
       "      <td>83311</td>\n",
       "      <td>Bachelors</td>\n",
       "      <td>13</td>\n",
       "      <td>Married-civ-spouse</td>\n",
       "      <td>Exec-managerial</td>\n",
       "      <td>Husband</td>\n",
       "      <td>White</td>\n",
       "      <td>Male</td>\n",
       "      <td>0</td>\n",
       "      <td>0</td>\n",
       "      <td>13</td>\n",
       "      <td>United-States</td>\n",
       "      <td>&lt;=50K</td>\n",
       "    </tr>\n",
       "    <tr>\n",
       "      <th>2</th>\n",
       "      <td>38</td>\n",
       "      <td>Private</td>\n",
       "      <td>215646</td>\n",
       "      <td>HS-grad</td>\n",
       "      <td>9</td>\n",
       "      <td>Divorced</td>\n",
       "      <td>Handlers-cleaners</td>\n",
       "      <td>Not-in-family</td>\n",
       "      <td>White</td>\n",
       "      <td>Male</td>\n",
       "      <td>0</td>\n",
       "      <td>0</td>\n",
       "      <td>40</td>\n",
       "      <td>United-States</td>\n",
       "      <td>&lt;=50K</td>\n",
       "    </tr>\n",
       "    <tr>\n",
       "      <th>3</th>\n",
       "      <td>53</td>\n",
       "      <td>Private</td>\n",
       "      <td>234721</td>\n",
       "      <td>11th</td>\n",
       "      <td>7</td>\n",
       "      <td>Married-civ-spouse</td>\n",
       "      <td>Handlers-cleaners</td>\n",
       "      <td>Husband</td>\n",
       "      <td>Black</td>\n",
       "      <td>Male</td>\n",
       "      <td>0</td>\n",
       "      <td>0</td>\n",
       "      <td>40</td>\n",
       "      <td>United-States</td>\n",
       "      <td>&lt;=50K</td>\n",
       "    </tr>\n",
       "    <tr>\n",
       "      <th>4</th>\n",
       "      <td>28</td>\n",
       "      <td>Private</td>\n",
       "      <td>338409</td>\n",
       "      <td>Bachelors</td>\n",
       "      <td>13</td>\n",
       "      <td>Married-civ-spouse</td>\n",
       "      <td>Prof-specialty</td>\n",
       "      <td>Wife</td>\n",
       "      <td>Black</td>\n",
       "      <td>Female</td>\n",
       "      <td>0</td>\n",
       "      <td>0</td>\n",
       "      <td>40</td>\n",
       "      <td>Cuba</td>\n",
       "      <td>&lt;=50K</td>\n",
       "    </tr>\n",
       "  </tbody>\n",
       "</table>\n",
       "</div>"
      ],
      "text/plain": [
       "   age         workclass  fnlwgt  education  education_num  \\\n",
       "0   39         State-gov   77516  Bachelors             13   \n",
       "1   50  Self-emp-not-inc   83311  Bachelors             13   \n",
       "2   38           Private  215646    HS-grad              9   \n",
       "3   53           Private  234721       11th              7   \n",
       "4   28           Private  338409  Bachelors             13   \n",
       "\n",
       "       marital_status         occupation   relationship   race     sex  \\\n",
       "0       Never-married       Adm-clerical  Not-in-family  White    Male   \n",
       "1  Married-civ-spouse    Exec-managerial        Husband  White    Male   \n",
       "2            Divorced  Handlers-cleaners  Not-in-family  White    Male   \n",
       "3  Married-civ-spouse  Handlers-cleaners        Husband  Black    Male   \n",
       "4  Married-civ-spouse     Prof-specialty           Wife  Black  Female   \n",
       "\n",
       "   capital_gain  capital_loss  hours_per_week native_country income  \n",
       "0          2174             0              40  United-States  <=50K  \n",
       "1             0             0              13  United-States  <=50K  \n",
       "2             0             0              40  United-States  <=50K  \n",
       "3             0             0              40  United-States  <=50K  \n",
       "4             0             0              40           Cuba  <=50K  "
      ]
     },
     "execution_count": 3,
     "metadata": {},
     "output_type": "execute_result"
    }
   ],
   "source": [
    "adult_df = load_adult_data()\n",
    "adult_df.head()"
   ]
  },
  {
   "cell_type": "markdown",
   "id": "68855613",
   "metadata": {},
   "source": [
    "# Age Grouping"
   ]
  },
  {
   "cell_type": "code",
   "execution_count": 4,
   "id": "cfe28833",
   "metadata": {},
   "outputs": [
    {
     "data": {
      "text/plain": [
       "count    32561.000000\n",
       "mean        38.581647\n",
       "std         13.640433\n",
       "min         17.000000\n",
       "25%         28.000000\n",
       "50%         37.000000\n",
       "75%         48.000000\n",
       "max         90.000000\n",
       "Name: age, dtype: float64"
      ]
     },
     "execution_count": 4,
     "metadata": {},
     "output_type": "execute_result"
    }
   ],
   "source": [
    "adult_df['age'].describe()"
   ]
  },
  {
   "cell_type": "code",
   "execution_count": 5,
   "id": "c207d487",
   "metadata": {},
   "outputs": [],
   "source": [
    "adult_df['age_group'] = pd.cut(\n",
    "    adult_df['age'],\n",
    "    bins=range(10, 101, 10),\n",
    "    right=False,\n",
    "    labels=[f'{age_start}~{age_start + 9}'\n",
    "            for age_start in range(10, 100, 10)]\n",
    ")"
   ]
  },
  {
   "cell_type": "code",
   "execution_count": 6,
   "id": "634342c5",
   "metadata": {},
   "outputs": [
    {
     "data": {
      "text/plain": [
       "Index(['10~19', '20~29', '30~39', '40~49', '50~59', '60~69', '70~79', '80~89',\n",
       "       '90~99'],\n",
       "      dtype='object')"
      ]
     },
     "execution_count": 6,
     "metadata": {},
     "output_type": "execute_result"
    }
   ],
   "source": [
    "adult_df['age_group'].cat.categories"
   ]
  },
  {
   "cell_type": "code",
   "execution_count": 7,
   "id": "d56e8e52",
   "metadata": {},
   "outputs": [
    {
     "data": {
      "text/html": [
       "<div>\n",
       "<style scoped>\n",
       "    .dataframe tbody tr th:only-of-type {\n",
       "        vertical-align: middle;\n",
       "    }\n",
       "\n",
       "    .dataframe tbody tr th {\n",
       "        vertical-align: top;\n",
       "    }\n",
       "\n",
       "    .dataframe thead th {\n",
       "        text-align: right;\n",
       "    }\n",
       "</style>\n",
       "<table border=\"1\" class=\"dataframe\">\n",
       "  <thead>\n",
       "    <tr style=\"text-align: right;\">\n",
       "      <th></th>\n",
       "      <th>age</th>\n",
       "      <th>age_group</th>\n",
       "    </tr>\n",
       "  </thead>\n",
       "  <tbody>\n",
       "    <tr>\n",
       "      <th>32551</th>\n",
       "      <td>32</td>\n",
       "      <td>30~39</td>\n",
       "    </tr>\n",
       "    <tr>\n",
       "      <th>32552</th>\n",
       "      <td>43</td>\n",
       "      <td>40~49</td>\n",
       "    </tr>\n",
       "    <tr>\n",
       "      <th>32553</th>\n",
       "      <td>32</td>\n",
       "      <td>30~39</td>\n",
       "    </tr>\n",
       "    <tr>\n",
       "      <th>32554</th>\n",
       "      <td>53</td>\n",
       "      <td>50~59</td>\n",
       "    </tr>\n",
       "    <tr>\n",
       "      <th>32555</th>\n",
       "      <td>22</td>\n",
       "      <td>20~29</td>\n",
       "    </tr>\n",
       "    <tr>\n",
       "      <th>32556</th>\n",
       "      <td>27</td>\n",
       "      <td>20~29</td>\n",
       "    </tr>\n",
       "    <tr>\n",
       "      <th>32557</th>\n",
       "      <td>40</td>\n",
       "      <td>40~49</td>\n",
       "    </tr>\n",
       "    <tr>\n",
       "      <th>32558</th>\n",
       "      <td>58</td>\n",
       "      <td>50~59</td>\n",
       "    </tr>\n",
       "    <tr>\n",
       "      <th>32559</th>\n",
       "      <td>22</td>\n",
       "      <td>20~29</td>\n",
       "    </tr>\n",
       "    <tr>\n",
       "      <th>32560</th>\n",
       "      <td>52</td>\n",
       "      <td>50~59</td>\n",
       "    </tr>\n",
       "  </tbody>\n",
       "</table>\n",
       "</div>"
      ],
      "text/plain": [
       "       age age_group\n",
       "32551   32     30~39\n",
       "32552   43     40~49\n",
       "32553   32     30~39\n",
       "32554   53     50~59\n",
       "32555   22     20~29\n",
       "32556   27     20~29\n",
       "32557   40     40~49\n",
       "32558   58     50~59\n",
       "32559   22     20~29\n",
       "32560   52     50~59"
      ]
     },
     "execution_count": 7,
     "metadata": {},
     "output_type": "execute_result"
    }
   ],
   "source": [
    "adult_df[['age', 'age_group']].tail(10)"
   ]
  },
  {
   "cell_type": "markdown",
   "id": "e44aa7a4",
   "metadata": {},
   "source": [
    "## Refactoring: To a Function\n",
    "\n",
    "Original code:\n",
    "\n",
    "```python\n",
    "adult_df['age_group'] = pd.cut(\n",
    "    adult_df['age'],\n",
    "    bins=range(10, 101, 10),\n",
    "    right=False,\n",
    "    labels=[f'{age_start}~{age_start + 9}'\n",
    "            for age_start in range(10, 100, 10)]\n",
    ")\n",
    "```\n",
    "\n",
    "Improvements:\n",
    "\n",
    "- Do not modify the original `adult_df` to avoid side effects. For that, use `assign`."
   ]
  },
  {
   "cell_type": "code",
   "execution_count": 8,
   "id": "11949043",
   "metadata": {},
   "outputs": [],
   "source": [
    "def add_age_group(adult_df):\n",
    "    age_group = pd.cut(\n",
    "        adult_df['age'],\n",
    "        bins=range(10, 101, 10),\n",
    "        right=False,\n",
    "        labels=[f'{age_start}~{age_start + 9}'\n",
    "                for age_start in range(10, 100, 10)]\n",
    "    )\n",
    "    \n",
    "    # Use `assign` to avoid modifying the original `adult_df` dataframe\n",
    "    return adult_df.assign(age_group=age_group)"
   ]
  },
  {
   "cell_type": "code",
   "execution_count": 9,
   "id": "4b09ad4d",
   "metadata": {},
   "outputs": [],
   "source": [
    "new_df = load_adult_data()"
   ]
  },
  {
   "cell_type": "code",
   "execution_count": 10,
   "id": "24a92647",
   "metadata": {},
   "outputs": [],
   "source": [
    "new_df = add_age_group(new_df)"
   ]
  },
  {
   "cell_type": "code",
   "execution_count": 11,
   "id": "812c4ec6",
   "metadata": {},
   "outputs": [
    {
     "data": {
      "text/plain": [
       "Index(['age', 'workclass', 'fnlwgt', 'education', 'education_num',\n",
       "       'marital_status', 'occupation', 'relationship', 'race', 'sex',\n",
       "       'capital_gain', 'capital_loss', 'hours_per_week', 'native_country',\n",
       "       'income', 'age_group'],\n",
       "      dtype='object')"
      ]
     },
     "execution_count": 11,
     "metadata": {},
     "output_type": "execute_result"
    }
   ],
   "source": [
    "new_df.columns"
   ]
  },
  {
   "cell_type": "markdown",
   "id": "9e872933",
   "metadata": {},
   "source": [
    "# Cateogry and Category Ordering"
   ]
  },
  {
   "cell_type": "code",
   "execution_count": 12,
   "id": "07fb9bfa",
   "metadata": {},
   "outputs": [
    {
     "data": {
      "text/plain": [
       "education\n",
       "Preschool        [1]\n",
       "1st-4th          [2]\n",
       "5th-6th          [3]\n",
       "7th-8th          [4]\n",
       "9th              [5]\n",
       "10th             [6]\n",
       "11th             [7]\n",
       "12th             [8]\n",
       "HS-grad          [9]\n",
       "Some-college    [10]\n",
       "Assoc-voc       [11]\n",
       "Assoc-acdm      [12]\n",
       "Bachelors       [13]\n",
       "Masters         [14]\n",
       "Prof-school     [15]\n",
       "Doctorate       [16]\n",
       "Name: education_num, dtype: object"
      ]
     },
     "execution_count": 12,
     "metadata": {},
     "output_type": "execute_result"
    }
   ],
   "source": [
    "(\n",
    "    adult_df\n",
    "    .groupby('education')['education_num']\n",
    "    .unique()\n",
    "    .sort_values()\n",
    ")"
   ]
  },
  {
   "cell_type": "code",
   "execution_count": 13,
   "id": "4123a830",
   "metadata": {},
   "outputs": [],
   "source": [
    "education_order = (\n",
    "    adult_df\n",
    "    .groupby('education')['education_num']\n",
    "    .unique()\n",
    "    .sort_values()\n",
    "    .index\n",
    ")"
   ]
  },
  {
   "cell_type": "code",
   "execution_count": 14,
   "id": "83fac32e",
   "metadata": {},
   "outputs": [],
   "source": [
    "adult_df['education'] = adult_df['education'].astype(\n",
    "    pd.CategoricalDtype(categories=education_order,\n",
    "                        ordered=True)\n",
    ")"
   ]
  },
  {
   "cell_type": "code",
   "execution_count": 15,
   "id": "76c613dd",
   "metadata": {},
   "outputs": [
    {
     "data": {
      "text/plain": [
       "0    Bachelors\n",
       "1    Bachelors\n",
       "2      HS-grad\n",
       "3         11th\n",
       "4    Bachelors\n",
       "Name: education, dtype: category\n",
       "Categories (16, object): ['Preschool' < '1st-4th' < '5th-6th' < '7th-8th' ... 'Bachelors' < 'Masters' < 'Prof-school' < 'Doctorate']"
      ]
     },
     "execution_count": 15,
     "metadata": {},
     "output_type": "execute_result"
    }
   ],
   "source": [
    "adult_df['education'].head()"
   ]
  },
  {
   "cell_type": "code",
   "execution_count": 16,
   "id": "c162a6d6",
   "metadata": {},
   "outputs": [],
   "source": [
    "adult_df['education_num'] = adult_df['education_num'].astype(\n",
    "    pd.CategoricalDtype(ordered=True)\n",
    ")"
   ]
  },
  {
   "cell_type": "code",
   "execution_count": 17,
   "id": "3da04d30",
   "metadata": {},
   "outputs": [
    {
     "data": {
      "text/plain": [
       "0    13\n",
       "1    13\n",
       "2     9\n",
       "3     7\n",
       "4    13\n",
       "Name: education_num, dtype: category\n",
       "Categories (16, int64): [1 < 2 < 3 < 4 ... 13 < 14 < 15 < 16]"
      ]
     },
     "execution_count": 17,
     "metadata": {},
     "output_type": "execute_result"
    }
   ],
   "source": [
    "adult_df['education_num'].head()"
   ]
  },
  {
   "cell_type": "markdown",
   "id": "246e4cc2",
   "metadata": {},
   "source": [
    "## Refactoring: To a Function\n",
    "\n",
    "Original code:\n",
    "\n",
    "```python\n",
    "education_order = (\n",
    "    adult_df\n",
    "    .groupby('education')['education_num']\n",
    "    .unique()\n",
    "    .sort_values()\n",
    "    .index\n",
    ")\n",
    "\n",
    "adult_df['education'] = adult_df['education'].astype(\n",
    "    pd.CategoricalDtype(categories=education_order,\n",
    "                        ordered=True)\n",
    ")\n",
    "\n",
    "adult_df['education_num'] = adult_df['education_num'].astype(\n",
    "    pd.CategoricalDtype(ordered=True)\n",
    ")\n",
    "```\n",
    "\n",
    "Improvements:\n",
    "\n",
    "- Do not modify the original `adult_df` to avoid side effects. Instead return `adult_df.astype()` directly.\n",
    "- Change types of `education` and `education_num` at once."
   ]
  },
  {
   "cell_type": "code",
   "execution_count": null,
   "id": "dcf8c0b6",
   "metadata": {},
   "outputs": [],
   "source": [
    "def change_education_type_to_category(adult_df):\n",
    "    education_order = (\n",
    "        adult_df\n",
    "        .groupby('education')['education_num']\n",
    "        .unique()\n",
    "        .sort_values()\n",
    "        .index\n",
    "    )\n",
    "    \n",
    "    return adult_df.astype({\n",
    "        \"education\": pd.CategoricalDtype(categories=education_order,\n",
    "                                         ordered=True),\n",
    "        \"education_num\": pd.CategoricalDtype(ordered=True),\n",
    "    })"
   ]
  },
  {
   "cell_type": "code",
   "execution_count": null,
   "id": "52d76219",
   "metadata": {},
   "outputs": [],
   "source": []
  }
 ],
 "metadata": {
  "kernelspec": {
   "display_name": "Python 3 (ipykernel)",
   "language": "python",
   "name": "python3"
  },
  "language_info": {
   "codemirror_mode": {
    "name": "ipython",
    "version": 3
   },
   "file_extension": ".py",
   "mimetype": "text/x-python",
   "name": "python",
   "nbconvert_exporter": "python",
   "pygments_lexer": "ipython3",
   "version": "3.11.4"
  }
 },
 "nbformat": 4,
 "nbformat_minor": 5
}
