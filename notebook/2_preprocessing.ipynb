{
 "cells": [
  {
   "cell_type": "code",
   "execution_count": null,
   "id": "ef21a41c",
   "metadata": {},
   "outputs": [],
   "source": [
    "import pandas as pd"
   ]
  },
  {
   "cell_type": "markdown",
   "id": "64bdd2ee",
   "metadata": {},
   "source": [
    "# Data Loading"
   ]
  },
  {
   "cell_type": "markdown",
   "id": "085faa27",
   "metadata": {},
   "source": [
    "<div class=\"alert alert-block alert-warning\">\n",
    "We have to copy & paste the `load_adult_data` function from the 1st notebook.\n",
    "</div>"
   ]
  },
  {
   "cell_type": "code",
   "execution_count": null,
   "id": "f9be8bca",
   "metadata": {},
   "outputs": [],
   "source": [
    "def load_adult_data(data_file='../data/adult_data.csv'):\n",
    "    COLUMN_NAMES = (\n",
    "        'age',\n",
    "        'workclass',\n",
    "        'fnlwgt',\n",
    "        'education',\n",
    "        'education_num',\n",
    "        'marital_status',\n",
    "        'occupation',\n",
    "        'relationship',\n",
    "        'race',\n",
    "        'sex',\n",
    "        'capital_gain',\n",
    "        'capital_loss',\n",
    "        'hours_per_week',\n",
    "        'native_country',\n",
    "        'income',\n",
    "    )\n",
    "    \n",
    "    return pd.read_csv(\n",
    "        data_file,\n",
    "        names=COLUMN_NAMES,\n",
    "        skipinitialspace=True\n",
    "    )"
   ]
  },
  {
   "cell_type": "code",
   "execution_count": null,
   "id": "eb65d643",
   "metadata": {},
   "outputs": [],
   "source": [
    "adult_df = load_adult_data()\n",
    "adult_df.head()"
   ]
  },
  {
   "cell_type": "markdown",
   "id": "68855613",
   "metadata": {},
   "source": [
    "# Age Grouping"
   ]
  },
  {
   "cell_type": "code",
   "execution_count": null,
   "id": "cfe28833",
   "metadata": {},
   "outputs": [],
   "source": [
    "adult_df['age'].describe()"
   ]
  },
  {
   "cell_type": "code",
   "execution_count": null,
   "id": "c207d487",
   "metadata": {},
   "outputs": [],
   "source": [
    "adult_df['age_group'] = pd.cut(\n",
    "    adult_df['age'],\n",
    "    bins=range(10, 101, 10),\n",
    "    right=False,\n",
    "    labels=[f'{age_start}~{age_start + 9}'\n",
    "            for age_start in range(10, 100, 10)]\n",
    ")"
   ]
  },
  {
   "cell_type": "code",
   "execution_count": null,
   "id": "634342c5",
   "metadata": {},
   "outputs": [],
   "source": [
    "adult_df['age_group'].cat.categories"
   ]
  },
  {
   "cell_type": "code",
   "execution_count": null,
   "id": "d56e8e52",
   "metadata": {},
   "outputs": [],
   "source": [
    "adult_df[['age', 'age_group']].tail(10)"
   ]
  },
  {
   "cell_type": "markdown",
   "id": "e44aa7a4",
   "metadata": {},
   "source": [
    "## Refactoring: To a Function\n",
    "\n",
    "Original code:\n",
    "\n",
    "```python\n",
    "adult_df['age_group'] = pd.cut(\n",
    "    adult_df['age'],\n",
    "    bins=range(10, 101, 10),\n",
    "    right=False,\n",
    "    labels=[f'{age_start}~{age_start + 9}'\n",
    "            for age_start in range(10, 100, 10)]\n",
    ")\n",
    "```\n",
    "\n",
    "Improvements:\n",
    "\n",
    "- Do not modify the original `adult_df` to avoid side effects. For that, use `assign`."
   ]
  },
  {
   "cell_type": "code",
   "execution_count": null,
   "id": "11949043",
   "metadata": {},
   "outputs": [],
   "source": [
    "def add_age_group(adult_df):\n",
    "    age_group = pd.cut(\n",
    "        adult_df['age'],\n",
    "        bins=range(10, 101, 10),\n",
    "        right=False,\n",
    "        labels=[f'{age_start}~{age_start + 9}'\n",
    "                for age_start in range(10, 100, 10)]\n",
    "    )\n",
    "    \n",
    "    # Use `assign` to avoid modifying the original `adult_df` dataframe\n",
    "    return adult_df.assign(age_group=age_group)"
   ]
  },
  {
   "cell_type": "markdown",
   "id": "9e872933",
   "metadata": {},
   "source": [
    "# Cateogry and Ordering"
   ]
  },
  {
   "cell_type": "code",
   "execution_count": null,
   "id": "07fb9bfa",
   "metadata": {},
   "outputs": [],
   "source": [
    "(\n",
    "    adult_df\n",
    "    .groupby('education')['education_num']\n",
    "    .unique()\n",
    "    .sort_values()\n",
    ")"
   ]
  },
  {
   "cell_type": "code",
   "execution_count": null,
   "id": "4123a830",
   "metadata": {},
   "outputs": [],
   "source": [
    "education_order = (\n",
    "    adult_df\n",
    "    .groupby('education')['education_num']\n",
    "    .unique()\n",
    "    .sort_values()\n",
    "    .index\n",
    ")\n",
    "education_order"
   ]
  },
  {
   "cell_type": "code",
   "execution_count": null,
   "id": "83fac32e",
   "metadata": {},
   "outputs": [],
   "source": [
    "adult_df['education'] = adult_df['education'].astype(\n",
    "    pd.CategoricalDtype(categories=education_order,\n",
    "                        ordered=True)\n",
    ")"
   ]
  },
  {
   "cell_type": "code",
   "execution_count": null,
   "id": "76c613dd",
   "metadata": {},
   "outputs": [],
   "source": [
    "adult_df['education'].head()"
   ]
  },
  {
   "cell_type": "code",
   "execution_count": null,
   "id": "c162a6d6",
   "metadata": {},
   "outputs": [],
   "source": [
    "adult_df['education_num'] = adult_df['education_num'].astype(\n",
    "    pd.CategoricalDtype(ordered=True)\n",
    ")"
   ]
  },
  {
   "cell_type": "code",
   "execution_count": null,
   "id": "3da04d30",
   "metadata": {},
   "outputs": [],
   "source": [
    "adult_df['education_num'].head()"
   ]
  },
  {
   "cell_type": "markdown",
   "id": "246e4cc2",
   "metadata": {},
   "source": [
    "## Refactoring: To a Function\n",
    "\n",
    "Original code:\n",
    "\n",
    "```python\n",
    "education_order = (\n",
    "    adult_df\n",
    "    .groupby('education')['education_num']\n",
    "    .unique()\n",
    "    .sort_values()\n",
    "    .index\n",
    ")\n",
    "\n",
    "adult_df['education'] = adult_df['education'].astype(\n",
    "    pd.CategoricalDtype(categories=education_order,\n",
    "                        ordered=True)\n",
    ")\n",
    "\n",
    "adult_df['education_num'] = adult_df['education_num'].astype(\n",
    "    pd.CategoricalDtype(ordered=True)\n",
    ")\n",
    "```\n",
    "\n",
    "Improvements:\n",
    "\n",
    "- Do not modify the original `adult_df` to avoid side effects. Instead return `adult_df.astype()` directly.\n",
    "- Change types of `education` and `education_num` at once."
   ]
  },
  {
   "cell_type": "code",
   "execution_count": null,
   "id": "dcf8c0b6",
   "metadata": {},
   "outputs": [],
   "source": [
    "def change_education_type_to_category(adult_df):\n",
    "    education_order = (\n",
    "        adult_df\n",
    "        .groupby('education')['education_num']\n",
    "        .unique()\n",
    "        .sort_values()\n",
    "        .index\n",
    "    )\n",
    "    \n",
    "    return adult_df.astype({\n",
    "        \"education\": pd.CategoricalDtype(categories=education_order,\n",
    "                                         ordered=True),\n",
    "        \"education_num\": pd.CategoricalDtype(ordered=True),\n",
    "    })"
   ]
  },
  {
   "cell_type": "code",
   "execution_count": null,
   "id": "106aeca3",
   "metadata": {},
   "outputs": [],
   "source": []
  }
 ],
 "metadata": {
  "kernelspec": {
   "display_name": "Python 3 (ipykernel)",
   "language": "python",
   "name": "python3"
  },
  "language_info": {
   "codemirror_mode": {
    "name": "ipython",
    "version": 3
   },
   "file_extension": ".py",
   "mimetype": "text/x-python",
   "name": "python",
   "nbconvert_exporter": "python",
   "pygments_lexer": "ipython3",
   "version": "3.11.4"
  }
 },
 "nbformat": 4,
 "nbformat_minor": 5
}
