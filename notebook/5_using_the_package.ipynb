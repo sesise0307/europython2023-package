{
 "cells": [
  {
   "cell_type": "markdown",
   "id": "226157a7",
   "metadata": {},
   "source": [
    "# Static Installation\n",
    "\n",
    "We can install our package using `pip` on your python environment.\n",
    "\n",
    "\n",
    "```sh\n",
    "$ pip install <path>\n",
    "```"
   ]
  },
  {
   "cell_type": "markdown",
   "id": "34788d9b",
   "metadata": {},
   "source": [
    "<div class=\"alert alert-block alert-warning\">\n",
    "After the installation, a kernel restart is required.\n",
    "</div>"
   ]
  },
  {
   "cell_type": "code",
   "execution_count": null,
   "id": "ed5c6c59",
   "metadata": {},
   "outputs": [],
   "source": [
    "import adult_data_analysis as ada"
   ]
  },
  {
   "cell_type": "code",
   "execution_count": null,
   "id": "762e0985",
   "metadata": {},
   "outputs": [],
   "source": [
    "adult_df = ada.load_data()\n",
    "adult_df.head()"
   ]
  },
  {
   "cell_type": "markdown",
   "id": "2ac1c5a5",
   "metadata": {},
   "source": [
    "# Dynamic Updates of a Package\n",
    "\n",
    "For instance, let's assume that we want to change the `fnlwgt` column name to `fnl_weight`.\n",
    "\n",
    "Let's modify the `load_data()` function."
   ]
  },
  {
   "cell_type": "code",
   "execution_count": null,
   "id": "3aefc4c5",
   "metadata": {},
   "outputs": [],
   "source": [
    "# The code modification has not been applied.\n",
    "\n",
    "adult_df = ada.load_data()\n",
    "adult_df.columns"
   ]
  },
  {
   "attachments": {},
   "cell_type": "markdown",
   "id": "2823bd8b",
   "metadata": {},
   "source": [
    "**Solution**:\n",
    "\n",
    "- Jupyter `autoreload` magic command:\n",
    "  ```python\n",
    "  %load_ext autoreload\n",
    "  %autoreload 2\n",
    "  ```\n",
    "- And an editable installation:\n",
    "  ```sh\n",
    "  $ pip install --editable <path>\n",
    "  ```"
   ]
  },
  {
   "cell_type": "markdown",
   "id": "18a1f444",
   "metadata": {},
   "source": [
    "<div class=\"alert alert-block alert-warning\">\n",
    "After the installation, a kernel restart is required.\n",
    "</div>"
   ]
  },
  {
   "cell_type": "code",
   "execution_count": null,
   "id": "c2c2c298",
   "metadata": {},
   "outputs": [],
   "source": [
    "%load_ext autoreload\n",
    "%autoreload 2"
   ]
  },
  {
   "cell_type": "code",
   "execution_count": null,
   "id": "ada17c6d",
   "metadata": {},
   "outputs": [],
   "source": [
    "import adult_data_analysis as ada"
   ]
  },
  {
   "cell_type": "code",
   "execution_count": null,
   "id": "13ad8467",
   "metadata": {},
   "outputs": [],
   "source": [
    "adult_df = ada.load_data()\n",
    "adult_df.columns"
   ]
  },
  {
   "cell_type": "markdown",
   "id": "ae6acffd",
   "metadata": {},
   "source": [
    "<div class=\"alert alert-block alert-success\">\n",
    "It works as expected! Nice.\n",
    "</div>\n",
    "\n",
    "<div class=\"alert alert-block alert-info\">\n",
    "Key points:\n",
    "\n",
    "- Create a Python package\n",
    "- Use `autoreload` jupyter magic command\n",
    "- Install the package in the editable mode\n",
    "</div>"
   ]
  },
  {
   "cell_type": "markdown",
   "id": "1a08d607",
   "metadata": {},
   "source": [
    "# We're All Set. Let's Exploit the Best of Both Worlds\n",
    "\n",
    "![Jupyter and Package](../image/jupyter_and_package.png)\n",
    "\n",
    "We can take full advantages of both a Full-fledged IDE and a Jupyter Notebook.\n",
    "\n",
    "**From an IDE:**\n",
    "\n",
    "- Better syntax highlight / code completion / debugging / refactoring support\n",
    "- Automatic code formatting with `Black`\n",
    "- Static error checking\n",
    "- Better documentation support\n",
    "- Version control integration\n",
    "- ...\n",
    "\n",
    "**From a Jupyter Notebook:**\n",
    "\n",
    "- Rapid prototyping and output verificaiton via REPL\n",
    "- Integration of code / output / documentation / visualization\n",
    "- ..."
   ]
  },
  {
   "cell_type": "markdown",
   "id": "43c4c74d",
   "metadata": {},
   "source": [
    "## Live Example 1: Data Loading and Preprocessing at Once\n",
    "\n",
    "Let's upgrade the `load_data()` function to make it does the data loading and preprocessing at once.\n",
    "\n",
    "- Import `add_age_group` and `change_education_type_to_category` from the `preprocessing.py`\n",
    "- Add a boolean `preprocessing` parameter\n",
    "- Apply preprocessing functions when the parameter is True"
   ]
  },
  {
   "cell_type": "code",
   "execution_count": null,
   "id": "93321f10",
   "metadata": {},
   "outputs": [],
   "source": [
    "adult_df = ada.load_data()\n",
    "adult_df.columns"
   ]
  },
  {
   "cell_type": "code",
   "execution_count": null,
   "id": "76ca4fc3",
   "metadata": {},
   "outputs": [],
   "source": [
    "adult_df.info()"
   ]
  },
  {
   "cell_type": "markdown",
   "id": "9ddf282a",
   "metadata": {},
   "source": [
    "## Live Example 2: Adding a `figsize` parameter to visualization functions\n",
    "\n",
    "There is no `figsize` parameter in the original visualization functions.\n",
    "\n",
    "We have to specify a figure size outside the function like this:\n",
    "\n",
    "```python\n",
    "import matplotlib.pyplot as plt\n",
    "\n",
    "plt.figure(figsize=(20, 5))\n",
    "ada.statistical_plots(adult_df, \"age\")\n",
    "```\n",
    "\n",
    "Instead, let's integrate the `figsize` parameter into our visualization functions."
   ]
  },
  {
   "cell_type": "code",
   "execution_count": null,
   "id": "9af986c1",
   "metadata": {},
   "outputs": [],
   "source": [
    "# Plot with a default `figsize`\n",
    "\n",
    "ada.statistical_plots(adult_df, \"age\")"
   ]
  },
  {
   "cell_type": "code",
   "execution_count": null,
   "id": "2202cf8a",
   "metadata": {},
   "outputs": [],
   "source": [
    "# Set a figure size outside our function using `matplotlib`\n",
    "\n",
    "import matplotlib.pyplot as plt\n",
    "\n",
    "plt.figure(figsize=(20, 5))\n",
    "ada.statistical_plots(adult_df, \"age\")"
   ]
  },
  {
   "cell_type": "code",
   "execution_count": null,
   "id": "68563e7e",
   "metadata": {},
   "outputs": [],
   "source": [
    "# Let's integrate the `figsize` parameter into the function\n",
    "\n",
    "# ada.statistical_plots(adult_df, \"age\", figsize=(20, 5))"
   ]
  }
 ],
 "metadata": {
  "kernelspec": {
   "display_name": "Python 3 (ipykernel)",
   "language": "python",
   "name": "python3"
  },
  "language_info": {
   "codemirror_mode": {
    "name": "ipython",
    "version": 3
   },
   "file_extension": ".py",
   "mimetype": "text/x-python",
   "name": "python",
   "nbconvert_exporter": "python",
   "pygments_lexer": "ipython3",
   "version": "3.11.4"
  }
 },
 "nbformat": 4,
 "nbformat_minor": 5
}
