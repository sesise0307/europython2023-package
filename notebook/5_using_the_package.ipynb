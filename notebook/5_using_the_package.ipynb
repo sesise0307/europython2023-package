{
 "cells": [
  {
   "cell_type": "code",
   "execution_count": null,
   "id": "243aa333",
   "metadata": {},
   "outputs": [],
   "source": [
    "# This cell will raise a `ModuleNotFoundError`\n",
    "\n",
    "import adult_data_analysis as ada"
   ]
  },
  {
   "attachments": {},
   "cell_type": "markdown",
   "id": "5883391b",
   "metadata": {},
   "source": [
    "# Adding your local path\n",
    "\n",
    "- Simple\n",
    "- Path is relative to the notebook path\n",
    "- Have to add the two lines of code in each notebook\n",
    "- Not an usual way of importing packages"
   ]
  },
  {
   "cell_type": "code",
   "execution_count": null,
   "id": "723fa109",
   "metadata": {},
   "outputs": [],
   "source": [
    "import sys\n",
    "\n",
    "sys.path.append(\"../src\")"
   ]
  },
  {
   "cell_type": "code",
   "execution_count": null,
   "id": "add08b3d",
   "metadata": {},
   "outputs": [],
   "source": [
    "# Now it works\n",
    "\n",
    "import adult_data_analysis as ada"
   ]
  },
  {
   "cell_type": "markdown",
   "id": "1fc95692",
   "metadata": {},
   "source": [
    "## Data Loading"
   ]
  },
  {
   "cell_type": "markdown",
   "id": "d3d30a06",
   "metadata": {},
   "source": [
    "# Updating the package and making it effective\n",
    "\n",
    "For instance, we want to change the `fnlwgt` column name to `fnl_weight`.\n",
    "\n",
    "Let's modify the `load_data()` function. Then:\n",
    "\n",
    "- Option 1: Restarting the jupyter kernel and run again\n",
    "- Option 2: Using jupyter `autoreload` magic command (recommended)"
   ]
  },
  {
   "cell_type": "markdown",
   "id": "5d73c2b7",
   "metadata": {},
   "source": [
    "# Auto Reload"
   ]
  },
  {
   "cell_type": "code",
   "execution_count": null,
   "id": "c2c2c298",
   "metadata": {},
   "outputs": [],
   "source": [
    "%load_ext autoreload\n",
    "%autoreload 2"
   ]
  },
  {
   "cell_type": "code",
   "execution_count": null,
   "id": "8500b8a8",
   "metadata": {},
   "outputs": [],
   "source": [
    "adult_df = ada.load_data()\n",
    "adult_df.columns"
   ]
  }
 ],
 "metadata": {
  "kernelspec": {
   "display_name": "Python 3 (ipykernel)",
   "language": "python",
   "name": "python3"
  },
  "language_info": {
   "codemirror_mode": {
    "name": "ipython",
    "version": 3
   },
   "file_extension": ".py",
   "mimetype": "text/x-python",
   "name": "python",
   "nbconvert_exporter": "python",
   "pygments_lexer": "ipython3",
   "version": "3.11.4"
  }
 },
 "nbformat": 4,
 "nbformat_minor": 5
}
