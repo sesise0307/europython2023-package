{
 "cells": [
  {
   "cell_type": "code",
   "execution_count": null,
   "id": "243aa333",
   "metadata": {},
   "outputs": [],
   "source": [
    "# This cell will raise a `ModuleNotFoundError`\n",
    "\n",
    "import adult_data_analysis as ada"
   ]
  },
  {
   "cell_type": "markdown",
   "id": "5883391b",
   "metadata": {},
   "source": [
    "# Adding your local path\n",
    "\n",
    "- Simple\n",
    "- Path is relative to the notebook path\n",
    "- Have to add the two lines of code in each notebook\n",
    "- Not an usual way of importing packages"
   ]
  },
  {
   "cell_type": "code",
   "execution_count": null,
   "id": "723fa109",
   "metadata": {},
   "outputs": [],
   "source": [
    "import sys\n",
    "\n",
    "sys.path.append(\"../src\")"
   ]
  },
  {
   "cell_type": "code",
   "execution_count": null,
   "id": "add08b3d",
   "metadata": {},
   "outputs": [],
   "source": [
    "# Now it works\n",
    "\n",
    "import adult_data_analysis as ada"
   ]
  },
  {
   "cell_type": "code",
   "execution_count": null,
   "id": "25b79002",
   "metadata": {},
   "outputs": [],
   "source": [
    "# Data loading\n",
    "\n",
    "adult_df = ada.load_data()\n",
    "\n",
    "adult_df.head()"
   ]
  },
  {
   "cell_type": "code",
   "execution_count": null,
   "id": "bae3fd06",
   "metadata": {},
   "outputs": [],
   "source": [
    "# Preprocessing\n",
    "\n",
    "adult_df = (\n",
    "    adult_df\n",
    "    .pipe(ada.add_age_group)\n",
    "    .pipe(ada.change_education_type_to_category)\n",
    ")\n",
    "\n",
    "adult_df.head()"
   ]
  },
  {
   "cell_type": "markdown",
   "id": "d3d30a06",
   "metadata": {},
   "source": [
    "# Updating the package and making it effective\n",
    "\n",
    "For instance, we want to change the `fnlwgt` column name to `fnl_weight`.\n",
    "\n",
    "Let's modify the `load_data()` function. Then:\n",
    "\n",
    "- Option 1: Restarting the jupyter kernel and run again\n",
    "- <font color=\"Blue\">Option 2: Using jupyter `autoreload` magic command (recommended)</font>"
   ]
  },
  {
   "cell_type": "code",
   "execution_count": null,
   "id": "3aefc4c5",
   "metadata": {},
   "outputs": [],
   "source": [
    "# The code modification has not been applied.\n",
    "\n",
    "adult_df = ada.load_data()\n",
    "adult_df.columns"
   ]
  },
  {
   "cell_type": "markdown",
   "id": "5d73c2b7",
   "metadata": {},
   "source": [
    "# Auto Reload"
   ]
  },
  {
   "cell_type": "markdown",
   "id": "dad16c78",
   "metadata": {},
   "source": [
    "<div class=\"alert alert-block alert-warning\">\n",
    "Need a kernel restart and run the cells below.\n",
    "</div>"
   ]
  },
  {
   "cell_type": "code",
   "execution_count": null,
   "id": "c2c2c298",
   "metadata": {},
   "outputs": [],
   "source": [
    "%load_ext autoreload\n",
    "%autoreload 2"
   ]
  },
  {
   "cell_type": "code",
   "execution_count": null,
   "id": "ada17c6d",
   "metadata": {},
   "outputs": [],
   "source": [
    "import sys\n",
    "\n",
    "sys.path.append(\"../src\")\n",
    "\n",
    "import adult_data_analysis as ada"
   ]
  },
  {
   "cell_type": "code",
   "execution_count": null,
   "id": "8500b8a8",
   "metadata": {},
   "outputs": [],
   "source": [
    "# Now code modifications will be applied dynamically.\n",
    "\n",
    "adult_df = ada.load_data()\n",
    "adult_df.columns"
   ]
  },
  {
   "cell_type": "code",
   "execution_count": null,
   "id": "305c1b24",
   "metadata": {},
   "outputs": [],
   "source": []
  }
 ],
 "metadata": {
  "kernelspec": {
   "display_name": "Python 3 (ipykernel)",
   "language": "python",
   "name": "python3"
  },
  "language_info": {
   "codemirror_mode": {
    "name": "ipython",
    "version": 3
   },
   "file_extension": ".py",
   "mimetype": "text/x-python",
   "name": "python",
   "nbconvert_exporter": "python",
   "pygments_lexer": "ipython3",
   "version": "3.11.4"
  }
 },
 "nbformat": 4,
 "nbformat_minor": 5
}
